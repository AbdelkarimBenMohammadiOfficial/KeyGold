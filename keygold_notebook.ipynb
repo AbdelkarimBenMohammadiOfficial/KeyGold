{
    "cells": [
        {
            "cell_type": "markdown",
            "source": [
                "## ⚙️ Import Packages"
            ],
            "metadata": {}
        },
        {
            "cell_type": "code",
            "execution_count": null,
            "source": [
                "#######\r\n",
                "# Import Packages ###\r\n",
                "#######\r\n",
                "from selenium import webdriver\r\n",
                "from selenium.webdriver.chrome.options import Options\r\n",
                "from selenium.webdriver.common.by import By\r\n",
                "from selenium.webdriver.support.ui import WebDriverWait\r\n",
                "from selenium.webdriver.support import expected_conditions as EC\r\n",
                "import time\r\n",
                "import pandas as pd\r\n",
                "from IPython.display import display\r\n",
                "from IPython.display import clear_output\r\n",
                "from csv import writer"
            ],
            "outputs": [],
            "metadata": {}
        },
        {
            "cell_type": "markdown",
            "source": [
                "## ⚙️ Welcome Message & Get user inputs"
            ],
            "metadata": {}
        },
        {
            "cell_type": "code",
            "execution_count": null,
            "source": [
                "# Welcome Message\r\n",
                "print(\"Welcome to KeyGold Program - KeyGold is a Micro-niche Targeted [$PROFITABLE] keywords Miner program for internet marketers, markets data-scientist & data-analyse specialist.\")\r\n",
                "\r\n",
                "# Get user input\r\n",
                "_ = input(\"\\n[~] if your [ Keywords_data.txt ] file is ready, press [ENTER] to launch Keygold Miner Engine & Start your Campaign .. \")"
            ],
            "outputs": [],
            "metadata": {}
        },
        {
            "cell_type": "markdown",
            "source": [
                "## ⚙️ Create a list from Keywords_data.txt"
            ],
            "metadata": {}
        },
        {
            "cell_type": "code",
            "execution_count": null,
            "source": [
                "# Create a list from Keywords_list_lv2.txt\r\n",
                "my_file = open(\"Keywords_data.txt\", \"r\", encoding='utf-8')\r\n",
                "content_list = my_file.readlines()\r\n",
                "\r\n",
                "keywords_list = []\r\n",
                "for element in content_list :\r\n",
                "    element = element.strip()\r\n",
                "    keywords_list.append(element)\r\n",
                "\r\n",
                "keywords_list_lv2 = keywords_list\r\n",
                "print(keywords_list)"
            ],
            "outputs": [],
            "metadata": {}
        },
        {
            "cell_type": "markdown",
            "source": [
                "## ⚙️ Drivers Engine / Launcher"
            ],
            "metadata": {}
        },
        {
            "cell_type": "code",
            "execution_count": null,
            "source": [
                "#######\r\n",
                "# Launch Driver ###\r\n",
                "#######\r\n",
                "\r\n",
                "# Setting Chrome Profile Options\r\n",
                "options = webdriver.ChromeOptions()\r\n",
                "options.add_argument(r\"--user-data-dir=C:\\Users\\root\\AppData\\Local\\Google\\Chrome\\User Data\") #e.g. C:\\Users\\You\\AppData\\Local\\Google\\Chrome\\User Data\r\n",
                "options.add_argument(r'--profile-directory=Profile 7') #e.g. Profile 3driver = webdriver.Chrome(options=options)\r\n",
                "\r\n",
                "# Launch browser & navigate\r\n",
                "driver = webdriver.Chrome(options=options)\r\n",
                "driver.implicitly_wait(30)\r\n"
            ],
            "outputs": [],
            "metadata": {}
        },
        {
            "cell_type": "markdown",
            "source": [
                "## ⚙️ Check API"
            ],
            "metadata": {}
        },
        {
            "cell_type": "code",
            "execution_count": null,
            "source": [
                "\r\n",
                "while True:\r\n",
                "    driver.get('https://sites.google.com/view/cyborgapi/keygold-api')\r\n",
                "\r\n",
                "    api_elements = driver.find_elements_by_xpath(\"//*[contains(text(),'API.true')]\")\r\n",
                "    \r\n",
                "    if len(api_elements) == 1 :\r\n",
                "        print(\"Cyborg-API/API.ok = \" + str(len(api_elements)))\r\n",
                "        break\r\n",
                "\r\n",
                "    else:\r\n",
                "        time.sleep(1)\r\n",
                "        print(\"Cyborg-API/API.update = \" + str(len(api_elements)))\r\n",
                "        driver.refresh()\r\n",
                "        "
            ],
            "outputs": [],
            "metadata": {}
        },
        {
            "cell_type": "markdown",
            "source": [
                "## ⚙️ Set [ KeyDiamond / KeyGold / KeySilver / KeyBronze ] Criteria"
            ],
            "metadata": {}
        },
        {
            "cell_type": "code",
            "execution_count": null,
            "source": [
                "# Set KeyGold Criteria Data Algorithm\r\n",
                "\r\n",
                "# KeyDiamond Criteria\r\n",
                "keydiamond_min_gms = 100000\r\n",
                "keydiamond_max_exact_srn = 1000\r\n",
                "\r\n",
                "# KeyGold Criteria\r\n",
                "keygold_min_gms = 10000\r\n",
                "keygold_max_exact_srn = 1000\r\n",
                "\r\n",
                "# KeySilver Criteria\r\n",
                "keysilver_min_gms = 1000\r\n",
                "keysilver_max_exact_srn = 1000\r\n",
                "\r\n",
                "# KeyBronze Criteria\r\n",
                "keybronze_min_gms = 500\r\n",
                "keybronze_max_exact_srn = 1000"
            ],
            "outputs": [],
            "metadata": {}
        },
        {
            "cell_type": "markdown",
            "source": [
                "## ⚙️ KeyGold Miner Engine - Keyword Analyser"
            ],
            "metadata": {}
        },
        {
            "cell_type": "code",
            "execution_count": null,
            "source": [
                "# navigate to [https://www.google.com/search?q=python]\r\n",
                "driver.get(\"https://www.google.com/search?q=python\") #key-5\r\n",
                "\r\n",
                "# Navigate to [https://www.bing.com/search?q=python] in new tab\r\n",
                "driver.execute_script(r'window.open(\"https://www.bing.com/search?q=python\",\"_blank\");')\r\n"
            ],
            "outputs": [],
            "metadata": {}
        },
        {
            "cell_type": "code",
            "execution_count": null,
            "source": [
                "driver.implicitly_wait(30)\r\n",
                "\r\n",
                "for keyword in keywords_list_lv2 :\r\n",
                "\r\n",
                "    # init current_keyword_data_list\r\n",
                "    current_keyword_data_list = []\r\n",
                "\r\n",
                "    # switch focus to tab[0] ###\r\n",
                "    tab_list = driver.window_handles\r\n",
                "    driver.switch_to.window(tab_list[0])\r\n",
                "\r\n",
                "    #######\r\n",
                "    # Type search [keyword] ###\r\n",
                "    #######\r\n",
                "    search_input = driver.find_element_by_xpath('//*[@name=\"q\"]') #key-6\r\n",
                "    search_input.clear()\r\n",
                "    search_input.send_keys(keyword)\r\n",
                "    time.sleep(3)\r\n",
                "    # Append it to current_keyword_data_list\r\n",
                "    current_keyword_data_list.append(keyword)\r\n",
                "    ###########################\r\n",
                "\r\n",
                "    #######\r\n",
                "    # Scrape [search volume] ###\r\n",
                "    #######\r\n",
                "    # if SV not loaded correctly\r\n",
                "    try:\r\n",
                "        search_volume = driver.find_element_by_xpath('//*[@class=\"sc-bdnylx kfLFgS surfer-add-to-clipboard\"][1]/span/div').text #key-7\r\n",
                "    except:\r\n",
                "        search_volume = \"0\"\r\n",
                "    # Remove Commas from the number\r\n",
                "    search_volume = search_volume.replace(',', '')\r\n",
                "    # Append it to current_keyword_data_list\r\n",
                "    current_keyword_data_list.append(search_volume)\r\n",
                "    ############################\r\n",
                "\r\n",
                "\r\n",
                "    # switch focus to tab[1] ###\r\n",
                "    tab_list = driver.window_handles\r\n",
                "    driver.switch_to.window(tab_list[1])\r\n",
                "\r\n",
                "    #######\r\n",
                "    # Get [[[ Broad ]]] search results number keyword ###\r\n",
                "    #######\r\n",
                "    driver.get(f\"https://www.bing.com/search?q={keyword}\")\r\n",
                "    # 📌Secure Operation Function\r\n",
                "    def secure_operation_enx():\r\n",
                "        # Secure Operation / while element not exist\r\n",
                "        # loop while element not exist\r\n",
                "        while True:\r\n",
                "            targeted_elements_list = driver.find_elements_by_xpath('//*[@id=\"sb_form_q\"]')\r\n",
                "            if len(targeted_elements_list) < 1 :\r\n",
                "                # Take action\r\n",
                "                time.sleep(3)\r\n",
                "                driver.refresh()\r\n",
                "        \r\n",
                "            else:\r\n",
                "                break\r\n",
                "    # 📌Call [ Secure Operation Function ]\r\n",
                "    secure_operation_enx()\r\n",
                "    # Scrape [Broad results number]\r\n",
                "    # 📌Build [scrape_results_number()] Function\r\n",
                "    def scrape_results_number():\r\n",
                "        search_results_number_elements = driver.find_elements_by_xpath('//*[@class=\"sb_count\"]')\r\n",
                "        if len(search_results_number_elements) > 0 :\r\n",
                "            search_results_number = driver.find_element_by_xpath('//*[@class=\"sb_count\"]').text\r\n",
                "            search_results_number = search_results_number.replace(' Results', '')\r\n",
                "            search_results_number = search_results_number.replace(',', '')\r\n",
                "        else:\r\n",
                "            # No Results State\r\n",
                "            search_results_number = 0\r\n",
                "        return search_results_number\r\n",
                "    # 📌Call [scrape_results_number()] function to get broad search results number\r\n",
                "    broad_search_results_number = scrape_results_number()\r\n",
                "    # Append it to current_keyword_data_list\r\n",
                "    current_keyword_data_list.append(broad_search_results_number)\r\n",
                "    ###############################\r\n",
                "\r\n",
                "    #######\r\n",
                "    # Get [[[ Exact ]]] search results number keyword ###\r\n",
                "    #######\r\n",
                "    driver.get(f'https://www.bing.com/search?q=\"{keyword}\"')\r\n",
                "    # 📌Call [ Secure Operation Function ]\r\n",
                "    secure_operation_enx()\r\n",
                "    # Scrape [Exact results number]\r\n",
                "    # 📌Call [scrape_results_number()] function to get Exact search results number\r\n",
                "    exact_search_results_number = scrape_results_number()\r\n",
                "    # Append it to current_keyword_data_list\r\n",
                "    current_keyword_data_list.append(exact_search_results_number)\r\n",
                "    ###############################\r\n",
                "\r\n",
                "    # Current keyword GMS\r\n",
                "    try:\r\n",
                "        current_keyword_gms = int(current_keyword_data_list[1])\r\n",
                "    except:\r\n",
                "        current_keyword_gms = 0\r\n",
                "    \r\n",
                "    # Current keyword SRN\r\n",
                "    current_keyword_exact_srn = int(current_keyword_data_list[3])\r\n",
                "\r\n",
                "    #######\r\n",
                "    # KeyDiamond/Gold/Silver/Bronze Filter ###\r\n",
                "    #######\r\n",
                "    # [ KeyDiamond ] Filter\r\n",
                "    if current_keyword_gms > keydiamond_min_gms and current_keyword_exact_srn < keydiamond_max_exact_srn :\r\n",
                "        current_keyword_profit_state = \"$KeyDiamond\"\r\n",
                "        # Append it to current_keyword_data_list\r\n",
                "        current_keyword_data_list.append(current_keyword_profit_state)\r\n",
                "        continue\r\n",
                "    # [ KeyGold ] Filter\r\n",
                "    elif current_keyword_gms > keygold_min_gms and current_keyword_exact_srn < keygold_max_exact_srn :\r\n",
                "        current_keyword_profit_state = \"$KeyGold\"\r\n",
                "        # Append it to current_keyword_data_list\r\n",
                "        current_keyword_data_list.append(current_keyword_profit_state)\r\n",
                "        continue\r\n",
                "    # [ KeySilver ] Filter\r\n",
                "    elif current_keyword_gms > keysilver_min_gms and current_keyword_exact_srn < keysilver_max_exact_srn :\r\n",
                "        current_keyword_profit_state = \"$KeySilver\"\r\n",
                "        # Append it to current_keyword_data_list\r\n",
                "        current_keyword_data_list.append(current_keyword_profit_state)\r\n",
                "        continue\r\n",
                "    # [ KeyBronze ] Filter\r\n",
                "    elif current_keyword_gms > keybronze_min_gms and current_keyword_exact_srn < keybronze_max_exact_srn :\r\n",
                "        current_keyword_profit_state = \"$KeyBronze\"\r\n",
                "        # Append it to current_keyword_data_list\r\n",
                "        current_keyword_data_list.append(current_keyword_profit_state)\r\n",
                "        continue\r\n",
                "\r\n",
                "    else:\r\n",
                "        current_keyword_profit_state = 0\r\n",
                "        # Append it to current_keyword_data_list\r\n",
                "        current_keyword_data_list.append(current_keyword_profit_state)\r\n",
                "    \r\n",
                "    #######\r\n",
                "\r\n",
                "    #######\r\n",
                "    # Append a row to output.csv ###\r\n",
                "    #######\r\n",
                "    # Open our existing CSV file in append mode\r\n",
                "    # Create a file object for this file\r\n",
                "    with open('general_keywords_data.csv', 'a') as f_object:\r\n",
                "        # Pass this file object to csv.writer() and get a writer object\r\n",
                "        writer_object = writer(f_object, lineterminator='\\r')\r\n",
                "        \r\n",
                "        # Pass the list as an argument into the writerow()\r\n",
                "        writer_object.writerow(current_keyword_data_list)\r\n",
                "        \r\n",
                "        #Close the file object\r\n",
                "        f_object.close()\r\n",
                "    \r\n",
                "    \r\n",
                "    # import general_keywords_data.csv to pandas dataframe\r\n",
                "    general_keywords_data_df = pd.read_csv(\"general_keywords_data.csv\")\r\n",
                "\r\n",
                "    # Clear cell output\r\n",
                "    clear_output(wait=True)\r\n",
                "\r\n",
                "    # Show dataframe\r\n",
                "    print(\"[+] general_keywords_data.csv Dataframe :\")\r\n",
                "    display(general_keywords_data_df)"
            ],
            "outputs": [],
            "metadata": {}
        }
    ],
    "metadata": {
        "orig_nbformat": 4,
        "language_info": {
            "name": "python",
            "version": "3.8.8",
            "mimetype": "text/x-python",
            "codemirror_mode": {
                "name": "ipython",
                "version": 3
            },
            "pygments_lexer": "ipython3",
            "nbconvert_exporter": "python",
            "file_extension": ".py"
        },
        "kernelspec": {
            "name": "python3",
            "display_name": "Python 3.8.8 64-bit ('base': conda)"
        },
        "interpreter": {
            "hash": "f35f510a60b7275e1f51967d4414b2318b6221ba120b2cd4abc1349a2b4bdac4"
        }
    },
    "nbformat": 4,
    "nbformat_minor": 2
}