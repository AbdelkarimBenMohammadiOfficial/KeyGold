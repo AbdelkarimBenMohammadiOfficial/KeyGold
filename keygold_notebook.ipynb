{
    "cells": [
        {
            "cell_type": "markdown",
            "source": [
                "## ⚙️ Import Packages"
            ],
            "metadata": {}
        },
        {
            "cell_type": "code",
            "execution_count": null,
            "source": [
                "#######\r\n",
                "# Import Packages ###\r\n",
                "#######\r\n",
                "from selenium import webdriver\r\n",
                "from selenium.webdriver.chrome.options import Options\r\n",
                "from selenium.webdriver.common.by import By\r\n",
                "from selenium.webdriver.support.ui import WebDriverWait\r\n",
                "from selenium.webdriver.support import expected_conditions as EC\r\n",
                "import time\r\n",
                "import pandas as pd\r\n",
                "from IPython.display import display\r\n",
                "from IPython.display import clear_output\r\n",
                "from csv import writer"
            ],
            "outputs": [],
            "metadata": {}
        },
        {
            "cell_type": "markdown",
            "source": [
                "## ⚙️ Welcome Message & Get user inputs"
            ],
            "metadata": {}
        },
        {
            "cell_type": "code",
            "execution_count": null,
            "source": [],
            "outputs": [],
            "metadata": {}
        },
        {
            "cell_type": "markdown",
            "source": [
                "## ⚙️ Drivers Engine / Launcher"
            ],
            "metadata": {}
        },
        {
            "cell_type": "code",
            "execution_count": null,
            "source": [],
            "outputs": [],
            "metadata": {}
        },
        {
            "cell_type": "markdown",
            "source": [
                "## ⚙️ Check API"
            ],
            "metadata": {}
        },
        {
            "cell_type": "code",
            "execution_count": null,
            "source": [
                "\r\n",
                "while True:\r\n",
                "    driver.get('https://sites.google.com/view/cyborgapi/keygold-api')\r\n",
                "\r\n",
                "    api_elements = driver.find_elements_by_xpath(\"//*[contains(text(),'API.true')]\")\r\n",
                "    \r\n",
                "    if len(api_elements) == 1 :\r\n",
                "        print(\"Cyborg-API/API.ok = \" + str(len(api_elements)))\r\n",
                "        break\r\n",
                "\r\n",
                "    else:\r\n",
                "        time.sleep(1)\r\n",
                "        print(\"Cyborg-API/API.update = \" + str(len(api_elements)))\r\n",
                "        driver.refresh()\r\n",
                "        "
            ],
            "outputs": [],
            "metadata": {}
        },
        {
            "cell_type": "markdown",
            "source": [
                "## ⚙️ Set [ KeyDiamond / KeyGold / KeySilver / KeyBronze ] Criteria"
            ],
            "metadata": {}
        },
        {
            "cell_type": "code",
            "execution_count": null,
            "source": [],
            "outputs": [],
            "metadata": {}
        },
        {
            "cell_type": "markdown",
            "source": [
                "## ⚙️ KeyGold Miner Engine - Keyword Analyser"
            ],
            "metadata": {}
        },
        {
            "cell_type": "code",
            "execution_count": null,
            "source": [],
            "outputs": [],
            "metadata": {}
        }
    ],
    "metadata": {
        "orig_nbformat": 4,
        "language_info": {
            "name": "python"
        }
    },
    "nbformat": 4,
    "nbformat_minor": 2
}