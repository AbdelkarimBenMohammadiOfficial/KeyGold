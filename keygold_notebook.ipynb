{
 "cells": [
  {
   "cell_type": "markdown",
   "metadata": {},
   "source": [
    "<img src=\"img/bot.gif\" width=\"100\" align=\"left\">\n",
    "\n",
    "## Project : KeyGold - Data Miner\n",
    "#### Welcome to KeyGold Program - KeyGold is a Micro-niche Targeted [$PROFITABLE] keywords data miner program for internet marketers, markets data-scientist & data-analyse specialist.\n",
    "#### So, let's Start Mining for the most profitable keywords on your Market ..\n",
    "#### ▶️ to RUN the Program just Go to [ Menu Bar ] -> [ Cell ] -> [ Run All ]"
   ]
  },
  {
   "cell_type": "markdown",
   "metadata": {},
   "source": [
    "## ⚙️ Importing Packages Section"
   ]
  },
  {
   "cell_type": "code",
   "execution_count": null,
   "metadata": {
    "ExecuteTime": {
     "end_time": "2021-08-18T18:49:58.845658Z",
     "start_time": "2021-08-18T18:49:58.806672Z"
    }
   },
   "outputs": [],
   "source": [
    "\"\"\"### Import Packages ###\"\"\"\n",
    "\n",
    "from selenium import webdriver\n",
    "from selenium.webdriver.chrome.options import Options\n",
    "from selenium.webdriver.common.by import By\n",
    "from selenium.webdriver.support.ui import WebDriverWait\n",
    "from selenium.webdriver.support import expected_conditions as EC\n",
    "from webdriver_manager.chrome import ChromeDriverManager\n",
    "import time\n",
    "import pandas as pd\n",
    "from IPython.display import display\n",
    "from IPython.display import clear_output\n",
    "from csv import writer\n",
    "from configparser import ConfigParser\n",
    "import os\n",
    "from csv import writer\n",
    "from IPython.display import clear_output\n",
    "\n",
    "\n",
    "\n",
    "#####################\n",
    "# ⚙️ config Parser: Get user data from config.ini ###\n",
    "#####################\n",
    "config_file = \"config.ini\"\n",
    "config = ConfigParser()\n",
    "config.read(config_file)\n",
    "user_data_dir = config[\"user_data\"][\"user_data_dir\"]\n",
    "profile_directory = config[\"user_data\"][\"profile_directory\"]\n",
    "\n",
    "\n",
    "#####################\n",
    "# ⚙️ Create a list from Keywords_data.txt ###\n",
    "#####################\n",
    "my_file = open(\"Keywords_data.txt\", \"r\", encoding='utf-8')\n",
    "content_list = my_file.readlines()\n",
    "\n",
    "keywords_list = []\n",
    "for element in content_list :\n",
    "    element = element.strip()\n",
    "    keywords_list.append(element)\n",
    "\n",
    "keywords_list_lv2 = keywords_list"
   ]
  },
  {
   "cell_type": "markdown",
   "metadata": {},
   "source": [
    "## ⚙️ Welcome Message Section"
   ]
  },
  {
   "cell_type": "code",
   "execution_count": null,
   "metadata": {
    "ExecuteTime": {
     "end_time": "2021-08-18T18:50:22.943607Z",
     "start_time": "2021-08-18T18:50:10.072770Z"
    }
   },
   "outputs": [],
   "source": [
    "\"\"\" Welcome Message & Get user inputs \"\"\"\n",
    "\n",
    "#####################\n",
    "# ⚙️ Welcome Message & Get user inputs ###\n",
    "#####################\n",
    "\n",
    "# Welcome Message\n",
    "print(\"Welcome to KeyGold Program - KeyGold is a Micro-niche Targeted [$PROFITABLE] keywords Miner program for internet marketers, markets data-scientist & data-analyse specialist.\")\n",
    "\n",
    "# if your [ Keywords_data.txt ] file is ready ?\n",
    "_ = input(\"\\n[~] if your [ Keywords_data.txt ] file is ready, press [ENTER] to launch Keygold Miner Engine & Start your Campaign .. \")"
   ]
  },
  {
   "cell_type": "markdown",
   "metadata": {},
   "source": [
    "## ⚙️ Driver Settings Section"
   ]
  },
  {
   "cell_type": "code",
   "execution_count": null,
   "metadata": {},
   "outputs": [],
   "source": [
    "\"\"\"### Launch Driver ###\"\"\"\n",
    "\n",
    "\n",
    "# Setting Chrome Profile Options\n",
    "options = webdriver.ChromeOptions()\n",
    "# options.add_argument(f\"--user-data-dir={user_data_dir}\")\n",
    "# options.add_argument(f'--profile-directory={profile_directory}')\n",
    "\n",
    "# Disable Images Download\n",
    "options.add_argument('--blink-settings=imagesEnabled=false')\n",
    "\n",
    "# Setting chrome Headless Mode\n",
    "# options.add_argument('--headless')\n",
    "# options.add_argument('--disable-gpu')\n",
    "\n",
    "# Chrome driver offscreen\n",
    "# options.add_argument('window-size=10x10')\n",
    "# driver.set_window_position(-10000, 0)\n",
    "# driver.set_window_size(0, 0)\n",
    "\n",
    "# Disable Image\n",
    "options.add_argument('--blink-settings=imagesEnabled=false')"
   ]
  },
  {
   "cell_type": "markdown",
   "metadata": {},
   "source": [
    "## ⚙️ Process / Page 1 -  Keyword Volume Checker"
   ]
  },
  {
   "cell_type": "code",
   "execution_count": null,
   "metadata": {},
   "outputs": [],
   "source": [
    "\"\"\"### Launch driver, Naviget & Scrape Keywords Data ###\"\"\"\n",
    "\n",
    "# Launch driver\n",
    "driver = webdriver.Chrome(executable_path=ChromeDriverManager().install(), options=options)\n",
    "driver.implicitly_wait(30)\n",
    "\n",
    "# navigate to [https://www.keiwords.com/tools/bulk-keyword-volume]\n",
    "driver.get(\"https://www.keiwords.com/tools/keyword-volume\")\n",
    "\n",
    "# Keyword list loop to scrape keywords data\n",
    "for keyword in keywords_list:\n",
    "\n",
    "    # Create the list that go to contain a single keyword data\n",
    "    current_keyword_data_list = []\n",
    "\n",
    "    # Add Keyword to keyword_data_list\n",
    "    current_keyword_data_list.append(keyword)\n",
    "\n",
    "\n",
    "    # Clear Keyword in keyword input\n",
    "    keyword_input = driver.find_element_by_xpath('//*[@id=\"search\"]')\n",
    "    keyword_input.clear()\n",
    "\n",
    "\n",
    "    # Type Keyword in keyword input\n",
    "    keyword_input = driver.find_element_by_xpath('//*[@id=\"search\"]')\n",
    "    keyword_input.send_keys(keyword)\n",
    "\n",
    "    # Click Search Bouton\n",
    "    search_button = driver.find_element_by_xpath('//*[@class=\"search-button\"]/i')\n",
    "    search_button.click()\n",
    "    time.sleep(7)\n",
    "\n",
    "\n",
    "    # Scrape Avg. monthly search\n",
    "    avg_monthly_search = driver.find_element_by_xpath('//*[@class=\"card-value monthly-searches\"]').text\n",
    "    #  Add Avg. monthly search to current_keyword_data_list\n",
    "    current_keyword_data_list.append(avg_monthly_search)\n",
    "\n",
    "\n",
    "    # Scrape Avg. Cost per Click\n",
    "    avg_cost_per_click = driver.find_element_by_xpath('//*[@class=\"card-value\"]').text.replace('$', '')\n",
    "    # Add Avg. monthly search to current_keyword_data_list\n",
    "    current_keyword_data_list.append(avg_cost_per_click)\n",
    "\n",
    "\n",
    "    # Scrape Ad Competition\n",
    "    ad_competition = driver.find_element_by_xpath('//*[@class=\"card-value ad-competition\"]').text\n",
    "    # Add Ad Competition to current_keyword_data_list\n",
    "    current_keyword_data_list.append(ad_competition)\n",
    "\n",
    "    print(f\"Keyword : {keyword} | Avg. monthly search : {avg_monthly_search} | Avg. Cost per Click : {avg_cost_per_click} | Ad Competition : {ad_competition} \")\n",
    "\n",
    "    \n",
    "    \"\"\"### Append a row to keywords_seo_data.csv ###\"\"\"\n",
    "    \n",
    "    # Open our existing CSV file in append mode\n",
    "    # Create a file object for this file\n",
    "    with open('keywords_seo_data.csv', 'a') as f_object:\n",
    "        # Pass this file object to csv.writer() and get a writer object\n",
    "        writer_object = writer(f_object, lineterminator='\\n')\n",
    " \n",
    "        \n",
    "        # Pass the list as an argument into the writerow()\n",
    "        writer_object.writerow(current_keyword_data_list)\n",
    "        \n",
    "        #Close the file object\n",
    "        f_object.close()\n",
    "\n",
    "\n",
    "    \"\"\"### Display Dataframe ###\"\"\"\n",
    "    \n",
    "    # import file.csv to pandas dataframe\n",
    "    file_df = pd.read_csv(\"keywords_seo_data.csv\")\n",
    "    \n",
    "    # Show dataframe\n",
    "    print(\"[+] [keywords_seo_data.csv] Dataframe :\")\n",
    "    clear_output(wait=True)\n",
    "    display(file_df)\n"
   ]
  }
 ],
 "metadata": {
  "interpreter": {
   "hash": "f35f510a60b7275e1f51967d4414b2318b6221ba120b2cd4abc1349a2b4bdac4"
  },
  "kernelspec": {
   "display_name": "Python 3.8.8 64-bit ('base': conda)",
   "name": "python3"
  },
  "language_info": {
   "codemirror_mode": {
    "name": "ipython",
    "version": 3
   },
   "file_extension": ".py",
   "mimetype": "text/x-python",
   "name": "python",
   "nbconvert_exporter": "python",
   "pygments_lexer": "ipython3",
   "version": "3.8.8"
  }
 },
 "nbformat": 4,
 "nbformat_minor": 2
}
